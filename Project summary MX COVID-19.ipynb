{
 "cells": [
  {
   "cell_type": "markdown",
   "metadata": {},
   "source": [
    "# COVID-19 in Mexico\n",
    "### Open data from the General Direction of epidemiology\n",
    "\n",
    "**Project Description:** This is our first teamwork project that consists on analyze the COVID-19 cases in Mexico.\n",
    "\n",
    "***Team:*** Bernardo Jardon, Miguel Bonachea, Odin Del Toro, Pablo Arroyo. \n",
    "\n",
    "**Objective:** Determine the current situation of cases with COVID-19 in Mexico through the visualization of the evolution of the disease in time.\n",
    "\n",
    "**Scope of the project:** Discover the pattern and trends in the evolution of the disease. Forecast COVID-19 cases with ARIMA Model in Python.  \n",
    "\n",
    "**Research questions to answer:**\n",
    "* What's the spread rate of the COVID-19 cases?\n",
    "* What's the pace of evolution of the disease in days until being interned in hospitals?\n",
    "* Which variables are more correlated to the increase of positive cases of COVID-19?\n",
    "* What's the distribution of cases in Mexico? What's the distribution per Health Centers? \n",
    "* What's the mortality rate and correlation for positive COVID-19 cases with cause of death?\n",
    "* Will COVID-19 cases continue increasing until the end of the month when is predicted that activities go back to normal? \n",
    "\n",
    "***Dataset:*** The data is extracted from the Mexican Health Secretary in the following link\n",
    "[COVID-19](https://www.gob.mx/salud/documentos/datos-abiertos-152127?idiom=es)\n",
    "\n",
    "***Data premises:*** \n",
    "* Data is updated on a daily basis. \n",
    "* Acummulated data as of 05/05/2020.\n",
    " \n",
    "***Milestone structure tasks:***\n",
    "* Data gathering. Find a dataset that accomplished the requirements for the analysis.\n",
    "* Clean and format the datasets. Describe the process of data exploration and cleanup.\n",
    "* Data processing and analysis.\n",
    "* Data visualization. Find correlation between variables. Consider at least two visualizations per question and save them as PNG images. \n",
    "* Summarize findings with answers to the questions and a short description with relevant plots.\n",
    "* Make a presentation that includes questions of the research, data source and process to find answer for questions, description of data exploration and cleanup process, analysis process, conclusions with numerical and visualizations summary, and interpretation of the findings from the results. \n",
    " \n",
    " ***Assigned activities:***\n",
    " * Bernardo Jardon - \n",
    " * Miguel Bonachea - \n",
    " * Odin Del Toro - \n",
    " * Pablo Arroyo - \n",
    " "
   ]
  },
  {
   "cell_type": "code",
   "execution_count": null,
   "metadata": {},
   "outputs": [],
   "source": []
  },
  {
   "cell_type": "code",
   "execution_count": null,
   "metadata": {},
   "outputs": [],
   "source": []
  },
  {
   "cell_type": "code",
   "execution_count": null,
   "metadata": {},
   "outputs": [],
   "source": []
  },
  {
   "cell_type": "code",
   "execution_count": null,
   "metadata": {},
   "outputs": [],
   "source": []
  },
  {
   "cell_type": "code",
   "execution_count": null,
   "metadata": {},
   "outputs": [],
   "source": []
  },
  {
   "cell_type": "code",
   "execution_count": null,
   "metadata": {},
   "outputs": [],
   "source": []
  },
  {
   "cell_type": "code",
   "execution_count": null,
   "metadata": {},
   "outputs": [],
   "source": []
  }
 ],
 "metadata": {
  "kernelspec": {
   "display_name": "Python 3",
   "language": "python",
   "name": "python3"
  },
  "language_info": {
   "codemirror_mode": {
    "name": "ipython",
    "version": 3
   },
   "file_extension": ".py",
   "mimetype": "text/x-python",
   "name": "python",
   "nbconvert_exporter": "python",
   "pygments_lexer": "ipython3",
   "version": "3.7.4"
  }
 },
 "nbformat": 4,
 "nbformat_minor": 2
}
