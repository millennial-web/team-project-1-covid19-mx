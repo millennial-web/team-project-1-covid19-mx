{
 "cells": [
  {
   "cell_type": "markdown",
   "metadata": {},
   "source": [
    "**Objective:** Determine the current situation of cases with COVID-19 in Mexico related to the geographical distribution of the disease.\n",
    "\n",
    "****Questions**** Miguel\n",
    "### What's the distribution of positive cases in Mexico? \n",
    "The distribution of positive covid19 cases are significantly greater in areas of high population, commerce and travel such as the capital city/state of CDMX, the state of Mexico, Baja California, Tabasco, Sinaloa, Quintana Roo, Puebla, Veracruz and Yucatan.\n",
    "\n",
    "The positive cases are evenly distributed across the entire country with the exception of less populated desert climates of Sonora and parts of Baja California and the large natural reserve forest areas of Campeche\n",
    "\n",
    "### What's the distribution of deaths by state? \n",
    "Although the number of positive covid19 cases are significantly greater in areas of high population there is also a higher level of medical care in these areas resulting in a lower mortality rate. More rural areas of lower population such as Colima, Oaxaca, Zacatecas and Jalisco have a much higher mortality rate of aproximately 30% compared to only 8% in CDMX. However, this is greatly due to the higher number of cases in metropolitan areas due to the close proximity of the population.\n",
    "\n",
    "The distribution of deaths are largely centered around metropolitan areas and cities with high tourism such as Aguascalientes, Santiago de Queretaro, Monclova, Chihuahua, Durango, Tijuana, Mexico City, Puebla, Huitiupán Chiapas and Cancún\n",
    "\n",
    "### What's the distribution of Health Centers in relation to deaths?\n",
    "The distribution of hospitals and Health Centers largely follows the population of cities along with the number of cases and deaths. For the most part, the capacity of hospitals, although overwhelmed with cases during this crisis, are able to respond to the disease in most cities. However there are areas with a high number of cases and very few medical facilites such as central Baja California Sur which only has major hospitals at the southern tip of the peninsula and to the east crossing the Gulf in Hermosillo. Cancún also has very few treatment facilities and patients there may have to be transfered via ambulance to Merida Yucatán or by helicopter or ferry to Cozumel. Given the high demand for beds, hospitals in cities with very few reported cases could be used to treat patients from sorrounding areas which are currently at full capacity.\n",
    "\n"
   ]
  },
  {
   "cell_type": "markdown",
   "metadata": {},
   "source": [
    "## Generate list of all cities with lat lng coordinates using google Geocoding API"
   ]
  },
  {
   "cell_type": "code",
   "execution_count": null,
   "metadata": {},
   "outputs": [],
   "source": [
    "# #get lat lngs data for municipalities in the top 5 states\n",
    "# geocode_url = \"https://maps.googleapis.com/maps/api/geocode/json\"\n",
    "\n",
    "# params = {\n",
    "#     \"key\": google_maps_api_key,\n",
    "# }\n",
    "\n",
    "# response_list = []\n",
    "\n",
    "# #get list of unique city and state combos and their lat lng values\n",
    "# unique_cities = []\n",
    "# unique_lats = []\n",
    "# unique_lngs = []\n",
    "\n",
    "# for index, row in covid_positive_df.iterrows():\n",
    "#     city_state = row[\"MUNICIPIO_RES\"] + ', ' + row[\"ENTIDAD_RES\"]\n",
    "#     if(city_state not in unique_cities):\n",
    "#         unique_cities.append(city_state)\n",
    "\n",
    "# # iterate through all city_states to get lat lng info for each city.\n",
    "# for city in unique_cities:\n",
    "#     print(\"Searching for Lat Lng info \"+ city +\"...\")\n",
    "#     params[\"address\"] = city\n",
    "#     response = requests.get(geocode_url, params= urllib.parse.urlencode(params))\n",
    "#     response_json = response.json()\n",
    "#     # Check that city has entry on OpenWeatherMap.\n",
    "#     if response_json['status'] == \"OK\" and len(response_json[\"results\"]):\n",
    "#         #check address components to see if we got a locality (city)\n",
    "#         city_found = False\n",
    "#         for adr_comp in response_json[\"results\"][0][\"address_components\"]:\n",
    "#             if('locality' in adr_comp[\"types\"]):\n",
    "#                 city_found = True\n",
    "#         if(city_found):\n",
    "#             unique_lats.append((response_json[\"results\"][0][\"geometry\"][\"location\"][\"lat\"]))\n",
    "#             unique_lngs.append((response_json[\"results\"][0][\"geometry\"][\"location\"][\"lng\"]))\n",
    "#         else:\n",
    "#             print(\"City not found. Skipping...\")\n",
    "#             unique_lats.append(0)\n",
    "#             unique_lngs.append(0)\n",
    "#     else:\n",
    "#         print(\"No Results, Skipping...\")\n",
    "#         unique_lats.append(0)\n",
    "#         unique_lngs.append(0)\n",
    "\n",
    "# #make new data frame with city names and lat lngs\n",
    "# cities_df = pd.DataFrame({\n",
    "#     \"Name\": unique_cities,\n",
    "#     \"Lat\" : unique_lats,\n",
    "#     \"Lng\" : unique_lngs,\n",
    "# })\n",
    "# #filter out the empty lat longs\n",
    "# cities_df = cities_df.loc[cities_df[\"Lat\"] > 0,:]\n",
    "\n",
    "# #save cities_df to seperate csv for future use without API calls\n",
    "# cities_df.to_csv('cities_mx_lat_lngs_data.csv', index=False)\n",
    "# cities_df"
   ]
  },
  {
   "cell_type": "markdown",
   "metadata": {},
   "source": [
    "## Generate list of all hospitals with lat lng coordinates using google Nearby Search API"
   ]
  },
  {
   "cell_type": "code",
   "execution_count": null,
   "metadata": {},
   "outputs": [],
   "source": [
    "# #get hospital locations for markers\n",
    "# google_nearby_search_url = \"https://maps.googleapis.com/maps/api/place/nearbysearch/json\"\n",
    "# parameters = {\n",
    "#             \"types\": \"hospital\",\n",
    "#             \"radius\": 3000,\n",
    "#             \"key\": google_maps_api_key}\n",
    "\n",
    "# hospitals = {}\n",
    "\n",
    "# for index, row in cities_df.iterrows():\n",
    "#     latitude = row[\"Lat\"]\n",
    "#     longitude = row[\"Lng\"]\n",
    "#     parameters[\"location\"] = f\"{latitude},{longitude}\"\n",
    "    \n",
    "#     print(f\"Searching for hospitals near {row['Name']}.\")\n",
    "#     response = requests.get(google_nearby_search_url, params=parameters).json()\n",
    "#     results = response[\"results\"]\n",
    "#     try:\n",
    "#         print(results)\n",
    "#         hospitals[row[\"Name\"]] = results\n",
    "#     except (KeyError, IndexError):\n",
    "#         print(\"No results, skipping.\")\n",
    "        \n",
    "# hospitals"
   ]
  },
  {
   "cell_type": "markdown",
   "metadata": {},
   "source": [
    "## Import dependencies and cleaned covid data csv"
   ]
  },
  {
   "cell_type": "code",
   "execution_count": 2,
   "metadata": {
    "scrolled": false
   },
   "outputs": [
    {
     "data": {
      "text/html": [
       "<div>\n",
       "<style scoped>\n",
       "    .dataframe tbody tr th:only-of-type {\n",
       "        vertical-align: middle;\n",
       "    }\n",
       "\n",
       "    .dataframe tbody tr th {\n",
       "        vertical-align: top;\n",
       "    }\n",
       "\n",
       "    .dataframe thead th {\n",
       "        text-align: right;\n",
       "    }\n",
       "</style>\n",
       "<table border=\"1\" class=\"dataframe\">\n",
       "  <thead>\n",
       "    <tr style=\"text-align: right;\">\n",
       "      <th></th>\n",
       "      <th>Unnamed: 0</th>\n",
       "      <th>FECHA_ACTUALIZACION</th>\n",
       "      <th>ID_REGISTRO</th>\n",
       "      <th>ORIGEN</th>\n",
       "      <th>SECTOR</th>\n",
       "      <th>ENTIDAD_UM</th>\n",
       "      <th>SEXO</th>\n",
       "      <th>ENTIDAD_NAC</th>\n",
       "      <th>ENTIDAD_RES</th>\n",
       "      <th>MUNICIPIO_RES</th>\n",
       "      <th>TIPO_PACIENTE</th>\n",
       "      <th>FECHA_INGRESO</th>\n",
       "      <th>FECHA_SINTOMAS</th>\n",
       "      <th>FECHA_DEF</th>\n",
       "      <th>INTUBADO</th>\n",
       "      <th>NEUMONIA</th>\n",
       "      <th>EDAD</th>\n",
       "      <th>NACIONALIDAD</th>\n",
       "      <th>EMBARAZO</th>\n",
       "      <th>HABLA_LENGUA_INDIG</th>\n",
       "      <th>DIABETES</th>\n",
       "      <th>EPOC</th>\n",
       "      <th>ASMA</th>\n",
       "      <th>INMUSUPR</th>\n",
       "      <th>HIPERTENSION</th>\n",
       "      <th>OTRA_COM</th>\n",
       "      <th>CARDIOVASCULAR</th>\n",
       "      <th>OBESIDAD</th>\n",
       "      <th>RENAL_CRONICA</th>\n",
       "      <th>TABAQUISMO</th>\n",
       "      <th>OTRO_CASO</th>\n",
       "      <th>RESULTADO</th>\n",
       "      <th>MIGRANTE</th>\n",
       "      <th>PAIS_NACIONALIDAD</th>\n",
       "      <th>PAIS_ORIGEN</th>\n",
       "      <th>UCI</th>\n",
       "    </tr>\n",
       "  </thead>\n",
       "  <tbody>\n",
       "    <tr>\n",
       "      <th>0</th>\n",
       "      <td>0</td>\n",
       "      <td>2020-05-05</td>\n",
       "      <td>0e056a</td>\n",
       "      <td>USMER</td>\n",
       "      <td>IMSS</td>\n",
       "      <td>Baja California</td>\n",
       "      <td>Hombre</td>\n",
       "      <td>Baja California</td>\n",
       "      <td>Baja California</td>\n",
       "      <td>Cosio</td>\n",
       "      <td>Ambulatorio</td>\n",
       "      <td>2020-03-19</td>\n",
       "      <td>2020-03-18</td>\n",
       "      <td>9999-99-99</td>\n",
       "      <td>No Aplica</td>\n",
       "      <td>No</td>\n",
       "      <td>29</td>\n",
       "      <td>Mexicana</td>\n",
       "      <td>No Aplica</td>\n",
       "      <td>No</td>\n",
       "      <td>No</td>\n",
       "      <td>No</td>\n",
       "      <td>No</td>\n",
       "      <td>No</td>\n",
       "      <td>No</td>\n",
       "      <td>No</td>\n",
       "      <td>No</td>\n",
       "      <td>No</td>\n",
       "      <td>No</td>\n",
       "      <td>No</td>\n",
       "      <td>No Especificado</td>\n",
       "      <td>Positivo SARS-CoV-2</td>\n",
       "      <td>No Especificado</td>\n",
       "      <td>Mexico</td>\n",
       "      <td>No Especificado</td>\n",
       "      <td>No Aplica</td>\n",
       "    </tr>\n",
       "    <tr>\n",
       "      <th>1</th>\n",
       "      <td>1</td>\n",
       "      <td>2020-05-05</td>\n",
       "      <td>108695</td>\n",
       "      <td>USMER</td>\n",
       "      <td>IMSS</td>\n",
       "      <td>Ciudad De Mexico</td>\n",
       "      <td>Hombre</td>\n",
       "      <td>Ciudad De Mexico</td>\n",
       "      <td>Ciudad De Mexico</td>\n",
       "      <td>Juarez</td>\n",
       "      <td>Hospitalizado</td>\n",
       "      <td>2020-03-23</td>\n",
       "      <td>2020-03-23</td>\n",
       "      <td>2020-04-11</td>\n",
       "      <td>No</td>\n",
       "      <td>No</td>\n",
       "      <td>64</td>\n",
       "      <td>Mexicana</td>\n",
       "      <td>No Aplica</td>\n",
       "      <td>No</td>\n",
       "      <td>No</td>\n",
       "      <td>Si</td>\n",
       "      <td>Si</td>\n",
       "      <td>No</td>\n",
       "      <td>Si</td>\n",
       "      <td>No</td>\n",
       "      <td>Si</td>\n",
       "      <td>Si</td>\n",
       "      <td>No</td>\n",
       "      <td>No</td>\n",
       "      <td>No Especificado</td>\n",
       "      <td>Positivo SARS-CoV-2</td>\n",
       "      <td>No Especificado</td>\n",
       "      <td>Mexico</td>\n",
       "      <td>No Especificado</td>\n",
       "      <td>No</td>\n",
       "    </tr>\n",
       "    <tr>\n",
       "      <th>2</th>\n",
       "      <td>2</td>\n",
       "      <td>2020-05-05</td>\n",
       "      <td>0342f4</td>\n",
       "      <td>USMER</td>\n",
       "      <td>SSA</td>\n",
       "      <td>Zacatecas</td>\n",
       "      <td>Hombre</td>\n",
       "      <td>Yucatan</td>\n",
       "      <td>Zacatecas</td>\n",
       "      <td>Pabellon De Arteaga</td>\n",
       "      <td>Hospitalizado</td>\n",
       "      <td>2020-03-29</td>\n",
       "      <td>2020-03-28</td>\n",
       "      <td>2020-03-30</td>\n",
       "      <td>Si</td>\n",
       "      <td>Si</td>\n",
       "      <td>64</td>\n",
       "      <td>Mexicana</td>\n",
       "      <td>No Aplica</td>\n",
       "      <td>No</td>\n",
       "      <td>No</td>\n",
       "      <td>No</td>\n",
       "      <td>Si</td>\n",
       "      <td>No</td>\n",
       "      <td>No</td>\n",
       "      <td>No</td>\n",
       "      <td>No</td>\n",
       "      <td>Si</td>\n",
       "      <td>No</td>\n",
       "      <td>Si</td>\n",
       "      <td>No</td>\n",
       "      <td>No Positivo SARS-CoV-2</td>\n",
       "      <td>No Especificado</td>\n",
       "      <td>Mexico</td>\n",
       "      <td>No Especificado</td>\n",
       "      <td>No</td>\n",
       "    </tr>\n",
       "    <tr>\n",
       "      <th>3</th>\n",
       "      <td>3</td>\n",
       "      <td>2020-05-05</td>\n",
       "      <td>0c09bc</td>\n",
       "      <td>USMER</td>\n",
       "      <td>IMSS</td>\n",
       "      <td>Mexico</td>\n",
       "      <td>Hombre</td>\n",
       "      <td>Mexico</td>\n",
       "      <td>Mexico</td>\n",
       "      <td>Nicolas Ruiz</td>\n",
       "      <td>Hospitalizado</td>\n",
       "      <td>2020-03-29</td>\n",
       "      <td>2020-03-29</td>\n",
       "      <td>9999-99-99</td>\n",
       "      <td>No</td>\n",
       "      <td>Si</td>\n",
       "      <td>41</td>\n",
       "      <td>Mexicana</td>\n",
       "      <td>No Aplica</td>\n",
       "      <td>No</td>\n",
       "      <td>No</td>\n",
       "      <td>No</td>\n",
       "      <td>No</td>\n",
       "      <td>No</td>\n",
       "      <td>No</td>\n",
       "      <td>No</td>\n",
       "      <td>No</td>\n",
       "      <td>No</td>\n",
       "      <td>No</td>\n",
       "      <td>Si</td>\n",
       "      <td>No Especificado</td>\n",
       "      <td>No Positivo SARS-CoV-2</td>\n",
       "      <td>No Especificado</td>\n",
       "      <td>Mexico</td>\n",
       "      <td>No Especificado</td>\n",
       "      <td>No</td>\n",
       "    </tr>\n",
       "    <tr>\n",
       "      <th>4</th>\n",
       "      <td>4</td>\n",
       "      <td>2020-05-05</td>\n",
       "      <td>188377</td>\n",
       "      <td>USMER</td>\n",
       "      <td>IMSS</td>\n",
       "      <td>Ciudad De Mexico</td>\n",
       "      <td>Hombre</td>\n",
       "      <td>Ciudad De Mexico</td>\n",
       "      <td>Ciudad De Mexico</td>\n",
       "      <td>Jesus Maria</td>\n",
       "      <td>Ambulatorio</td>\n",
       "      <td>2020-03-28</td>\n",
       "      <td>2020-03-26</td>\n",
       "      <td>9999-99-99</td>\n",
       "      <td>No Aplica</td>\n",
       "      <td>No</td>\n",
       "      <td>69</td>\n",
       "      <td>Mexicana</td>\n",
       "      <td>No Aplica</td>\n",
       "      <td>No</td>\n",
       "      <td>Si</td>\n",
       "      <td>No</td>\n",
       "      <td>No</td>\n",
       "      <td>No</td>\n",
       "      <td>No</td>\n",
       "      <td>No</td>\n",
       "      <td>No</td>\n",
       "      <td>No</td>\n",
       "      <td>No</td>\n",
       "      <td>No</td>\n",
       "      <td>No Especificado</td>\n",
       "      <td>No Positivo SARS-CoV-2</td>\n",
       "      <td>No Especificado</td>\n",
       "      <td>Mexico</td>\n",
       "      <td>No Especificado</td>\n",
       "      <td>No Aplica</td>\n",
       "    </tr>\n",
       "  </tbody>\n",
       "</table>\n",
       "</div>"
      ],
      "text/plain": [
       "   Unnamed: 0 FECHA_ACTUALIZACION ID_REGISTRO ORIGEN SECTOR        ENTIDAD_UM  \\\n",
       "0           0          2020-05-05      0e056a  USMER   IMSS   Baja California   \n",
       "1           1          2020-05-05      108695  USMER   IMSS  Ciudad De Mexico   \n",
       "2           2          2020-05-05      0342f4  USMER    SSA         Zacatecas   \n",
       "3           3          2020-05-05      0c09bc  USMER   IMSS            Mexico   \n",
       "4           4          2020-05-05      188377  USMER   IMSS  Ciudad De Mexico   \n",
       "\n",
       "     SEXO       ENTIDAD_NAC       ENTIDAD_RES        MUNICIPIO_RES  \\\n",
       "0  Hombre   Baja California   Baja California                Cosio   \n",
       "1  Hombre  Ciudad De Mexico  Ciudad De Mexico               Juarez   \n",
       "2  Hombre           Yucatan         Zacatecas  Pabellon De Arteaga   \n",
       "3  Hombre            Mexico            Mexico         Nicolas Ruiz   \n",
       "4  Hombre  Ciudad De Mexico  Ciudad De Mexico          Jesus Maria   \n",
       "\n",
       "   TIPO_PACIENTE FECHA_INGRESO FECHA_SINTOMAS   FECHA_DEF   INTUBADO NEUMONIA  \\\n",
       "0    Ambulatorio    2020-03-19     2020-03-18  9999-99-99  No Aplica      No    \n",
       "1  Hospitalizado    2020-03-23     2020-03-23  2020-04-11        No       No    \n",
       "2  Hospitalizado    2020-03-29     2020-03-28  2020-03-30        Si       Si    \n",
       "3  Hospitalizado    2020-03-29     2020-03-29  9999-99-99        No       Si    \n",
       "4    Ambulatorio    2020-03-28     2020-03-26  9999-99-99  No Aplica      No    \n",
       "\n",
       "   EDAD NACIONALIDAD   EMBARAZO HABLA_LENGUA_INDIG DIABETES EPOC ASMA  \\\n",
       "0    29     Mexicana  No Aplica                No       No   No   No    \n",
       "1    64     Mexicana  No Aplica                No       No   Si   Si    \n",
       "2    64     Mexicana  No Aplica                No       No   No   Si    \n",
       "3    41     Mexicana  No Aplica                No       No   No   No    \n",
       "4    69     Mexicana  No Aplica                No       Si   No   No    \n",
       "\n",
       "  INMUSUPR HIPERTENSION OTRA_COM CARDIOVASCULAR OBESIDAD RENAL_CRONICA  \\\n",
       "0      No           No       No             No       No            No    \n",
       "1      No           Si       No             Si       Si            No    \n",
       "2      No           No       No             No       Si            No    \n",
       "3      No           No       No             No       No            No    \n",
       "4      No           No       No             No       No            No    \n",
       "\n",
       "  TABAQUISMO        OTRO_CASO               RESULTADO         MIGRANTE  \\\n",
       "0        No   No Especificado     Positivo SARS-CoV-2  No Especificado   \n",
       "1        No   No Especificado     Positivo SARS-CoV-2  No Especificado   \n",
       "2        Si               No   No Positivo SARS-CoV-2  No Especificado   \n",
       "3        Si   No Especificado  No Positivo SARS-CoV-2  No Especificado   \n",
       "4        No   No Especificado  No Positivo SARS-CoV-2  No Especificado   \n",
       "\n",
       "  PAIS_NACIONALIDAD      PAIS_ORIGEN        UCI  \n",
       "0            Mexico  No Especificado  No Aplica  \n",
       "1            Mexico  No Especificado        No   \n",
       "2            Mexico  No Especificado        No   \n",
       "3            Mexico  No Especificado        No   \n",
       "4            Mexico  No Especificado  No Aplica  "
      ]
     },
     "execution_count": 2,
     "metadata": {},
     "output_type": "execute_result"
    }
   ],
   "source": [
    "# Dependencies and Setup\n",
    "import matplotlib.pyplot as plt\n",
    "import pandas as pd\n",
    "import numpy as np\n",
    "import requests\n",
    "import gmaps\n",
    "import scipy.stats as st\n",
    "from pprint import pprint\n",
    "import urllib.parse\n",
    "\n",
    "# Import API key (config is added to gitignore to protect Personal API Keys, user your own to run commands)\n",
    "from config import google_maps_api_key\n",
    "\n",
    "csv_path = \"Resources/COVID_Clean_Data.csv\"\n",
    "covid_df = pd.read_csv(csv_path)\n",
    "\n",
    "#to show all columns in previews\n",
    "pd.options.display.max_columns = 500\n",
    "covid_df.head()"
   ]
  },
  {
   "cell_type": "markdown",
   "metadata": {},
   "source": [
    "## Import cities lat lng csv created from API previously"
   ]
  },
  {
   "cell_type": "code",
   "execution_count": 3,
   "metadata": {},
   "outputs": [
    {
     "data": {
      "text/html": [
       "<div>\n",
       "<style scoped>\n",
       "    .dataframe tbody tr th:only-of-type {\n",
       "        vertical-align: middle;\n",
       "    }\n",
       "\n",
       "    .dataframe tbody tr th {\n",
       "        vertical-align: top;\n",
       "    }\n",
       "\n",
       "    .dataframe thead th {\n",
       "        text-align: right;\n",
       "    }\n",
       "</style>\n",
       "<table border=\"1\" class=\"dataframe\">\n",
       "  <thead>\n",
       "    <tr style=\"text-align: right;\">\n",
       "      <th></th>\n",
       "      <th>Name</th>\n",
       "      <th>Lat</th>\n",
       "      <th>Lng</th>\n",
       "    </tr>\n",
       "  </thead>\n",
       "  <tbody>\n",
       "    <tr>\n",
       "      <th>0</th>\n",
       "      <td>Juarez, Ciudad De Mexico</td>\n",
       "      <td>19.426753</td>\n",
       "      <td>-99.161845</td>\n",
       "    </tr>\n",
       "    <tr>\n",
       "      <th>1</th>\n",
       "      <td>Santiago Amoltepec, Oaxaca</td>\n",
       "      <td>16.641227</td>\n",
       "      <td>-97.495875</td>\n",
       "    </tr>\n",
       "    <tr>\n",
       "      <th>2</th>\n",
       "      <td>Jesus Maria, Ciudad De Mexico</td>\n",
       "      <td>19.428556</td>\n",
       "      <td>-99.128511</td>\n",
       "    </tr>\n",
       "    <tr>\n",
       "      <th>3</th>\n",
       "      <td>Jesus Maria, Colima</td>\n",
       "      <td>19.245234</td>\n",
       "      <td>-103.724087</td>\n",
       "    </tr>\n",
       "    <tr>\n",
       "      <th>4</th>\n",
       "      <td>Pantepec, Oaxaca</td>\n",
       "      <td>20.520016</td>\n",
       "      <td>-97.938857</td>\n",
       "    </tr>\n",
       "  </tbody>\n",
       "</table>\n",
       "</div>"
      ],
      "text/plain": [
       "                            Name        Lat         Lng\n",
       "0       Juarez, Ciudad De Mexico  19.426753  -99.161845\n",
       "1     Santiago Amoltepec, Oaxaca  16.641227  -97.495875\n",
       "2  Jesus Maria, Ciudad De Mexico  19.428556  -99.128511\n",
       "3            Jesus Maria, Colima  19.245234 -103.724087\n",
       "4               Pantepec, Oaxaca  20.520016  -97.938857"
      ]
     },
     "execution_count": 3,
     "metadata": {},
     "output_type": "execute_result"
    }
   ],
   "source": [
    "csv_path = \"cities_mx_lat_lngs_data.csv\"\n",
    "cities_df = pd.read_csv(csv_path)\n",
    "cities_df.head()"
   ]
  },
  {
   "cell_type": "markdown",
   "metadata": {},
   "source": [
    "## Import Hospitals lat lng csv created from API previously"
   ]
  },
  {
   "cell_type": "code",
   "execution_count": 11,
   "metadata": {},
   "outputs": [
    {
     "data": {
      "text/html": [
       "<div>\n",
       "<style scoped>\n",
       "    .dataframe tbody tr th:only-of-type {\n",
       "        vertical-align: middle;\n",
       "    }\n",
       "\n",
       "    .dataframe tbody tr th {\n",
       "        vertical-align: top;\n",
       "    }\n",
       "\n",
       "    .dataframe thead th {\n",
       "        text-align: right;\n",
       "    }\n",
       "</style>\n",
       "<table border=\"1\" class=\"dataframe\">\n",
       "  <thead>\n",
       "    <tr style=\"text-align: right;\">\n",
       "      <th></th>\n",
       "      <th>name_full</th>\n",
       "      <th>lat</th>\n",
       "      <th>lng</th>\n",
       "      <th>types</th>\n",
       "    </tr>\n",
       "  </thead>\n",
       "  <tbody>\n",
       "    <tr>\n",
       "      <th>0</th>\n",
       "      <td>Unidad Quirúrgica Montgober, Juarez, Ciudad De...</td>\n",
       "      <td>19.415515</td>\n",
       "      <td>-99.157304</td>\n",
       "      <td>['hospital', 'health', 'point_of_interest', 'e...</td>\n",
       "    </tr>\n",
       "    <tr>\n",
       "      <th>1</th>\n",
       "      <td>Hospital Santiago Amoltepec. En proceso de con...</td>\n",
       "      <td>16.652620</td>\n",
       "      <td>-97.500731</td>\n",
       "      <td>['hospital', 'health', 'point_of_interest', 'e...</td>\n",
       "    </tr>\n",
       "    <tr>\n",
       "      <th>2</th>\n",
       "      <td>Hospitalito, Jesus Maria, Ciudad De Mexico</td>\n",
       "      <td>19.447811</td>\n",
       "      <td>-99.112463</td>\n",
       "      <td>['hospital', 'health', 'point_of_interest', 'e...</td>\n",
       "    </tr>\n",
       "    <tr>\n",
       "      <th>3</th>\n",
       "      <td>Unión Médica Adame, Jesus Maria, Colima</td>\n",
       "      <td>19.244757</td>\n",
       "      <td>-103.723690</td>\n",
       "      <td>['hospital', 'health', 'point_of_interest', 'e...</td>\n",
       "    </tr>\n",
       "    <tr>\n",
       "      <th>4</th>\n",
       "      <td>UMR Pantepec, Pantepec, Oaxaca</td>\n",
       "      <td>20.521237</td>\n",
       "      <td>-97.939476</td>\n",
       "      <td>['hospital', 'health', 'point_of_interest', 'e...</td>\n",
       "    </tr>\n",
       "  </tbody>\n",
       "</table>\n",
       "</div>"
      ],
      "text/plain": [
       "                                           name_full        lat         lng  \\\n",
       "0  Unidad Quirúrgica Montgober, Juarez, Ciudad De...  19.415515  -99.157304   \n",
       "1  Hospital Santiago Amoltepec. En proceso de con...  16.652620  -97.500731   \n",
       "2         Hospitalito, Jesus Maria, Ciudad De Mexico  19.447811  -99.112463   \n",
       "3            Unión Médica Adame, Jesus Maria, Colima  19.244757 -103.723690   \n",
       "4                     UMR Pantepec, Pantepec, Oaxaca  20.521237  -97.939476   \n",
       "\n",
       "                                               types  \n",
       "0  ['hospital', 'health', 'point_of_interest', 'e...  \n",
       "1  ['hospital', 'health', 'point_of_interest', 'e...  \n",
       "2  ['hospital', 'health', 'point_of_interest', 'e...  \n",
       "3  ['hospital', 'health', 'point_of_interest', 'e...  \n",
       "4  ['hospital', 'health', 'point_of_interest', 'e...  "
      ]
     },
     "execution_count": 11,
     "metadata": {},
     "output_type": "execute_result"
    }
   ],
   "source": [
    "csv_path = \"unique_hospitals_mexico.csv\"\n",
    "unique_hospitals_df = pd.read_csv(csv_path)\n",
    "unique_hospitals_df.head()"
   ]
  },
  {
   "cell_type": "markdown",
   "metadata": {},
   "source": [
    "## Analysis of data to find states with the most cases and number of deaths in each state"
   ]
  },
  {
   "cell_type": "code",
   "execution_count": 4,
   "metadata": {
    "scrolled": false
   },
   "outputs": [
    {
     "data": {
      "image/png": "[encoded data removed]",
      "text/plain": [
       "<Figure size 1080x576 with 1 Axes>"
      ]
     },
     "metadata": {
      "needs_background": "light"
     },
     "output_type": "display_data"
    }
   ],
   "source": [
    "#created new data frame filtered from covid data for positive cases only\n",
    "covid_positive_df = covid_df.loc[covid_df[\"RESULTADO\"] == \"Positivo SARS-CoV-2\",:]\n",
    "covid_positive_df\n",
    "\n",
    "#create new data frame filtered for fatalities cases only\n",
    "covid_deaths_df = covid_df.loc[covid_df[\"FECHA_DEF\"] != \"9999-99-99\",:]\n",
    "covid_deaths_df\n",
    "\n",
    "#groupby state and get count of positive cases by state\n",
    "cases_by_state = covid_positive_df.groupby(\"ENTIDAD_UM\")[\"ID_REGISTRO\"].count().sort_values(ascending=False)\n",
    "\n",
    "#groupby state and get count of deaths by state\n",
    "deaths_by_state = covid_deaths_df.groupby(\"ENTIDAD_UM\")[\"ID_REGISTRO\"].count().sort_values(ascending=False)\n",
    "\n",
    "#concat grouped results into one dataframe\n",
    "case_to_death_by_state_df = pd.concat([cases_by_state, deaths_by_state], axis=1)\n",
    "case_to_death_by_state_df.columns = [\"Cases\",\"Deaths\"]\n",
    "\n",
    "#create a bar chart showing 20 top states for covid cases and number of deaths in each state\n",
    "ax = case_to_death_by_state_df.head(20).plot.bar(rot=90,fontsize=\"12\", stacked=False, figsize=(15,8))\n",
    "for p in ax.patches:\n",
    "    ax.annotate(str(p.get_height()), (p.get_x() * 1.005, p.get_height() *1.005))\n",
    "\n",
    "plt.title(f\"Top States in México for Positive COVID19 Cases\")\n",
    "plt.xlabel(\"State\")\n",
    "plt.ylabel(\"Number of Cases\")\n",
    "\n",
    "plt.savefig(\"Results_visualizations/COVID19_bar_top_states_positive_cases.png\")\n",
    "plt.show()"
   ]
  },
  {
   "cell_type": "markdown",
   "metadata": {},
   "source": [
    "* The distribution of positive covid19 cases are significantly greater in areas of high population, commerce and travel such as the capital city/state of CDMX, the state of Mexico, Baja California, Tabasco, Sinaloa, Quintana Roo, Puebla, Veracruz and Yucatan. "
   ]
  },
  {
   "cell_type": "markdown",
   "metadata": {},
   "source": [
    "## Analysis of data to find states with the hightest mortality rates"
   ]
  },
  {
   "cell_type": "code",
   "execution_count": 5,
   "metadata": {
    "scrolled": false
   },
   "outputs": [
    {
     "data": {
      "image/png": "[encoded data removed]",
      "text/plain": [
       "<Figure size 1080x576 with 1 Axes>"
      ]
     },
     "metadata": {
      "needs_background": "light"
     },
     "output_type": "display_data"
    }
   ],
   "source": [
    "#calculate mortality rate by state\n",
    "case_to_death_by_state_df[\"Mortality Rate %\"] = [ round(row[\"Deaths\"] / row[\"Cases\"] * 100,2) for index, row in case_to_death_by_state_df.iterrows()]\n",
    "#sort to get the states with the highest mortality rates\n",
    "case_to_death_by_state_df = case_to_death_by_state_df.sort_values(\"Mortality Rate %\",ascending=False)\n",
    "\n",
    "#create a bar chart showing 10 states with highest mortality rates\n",
    "ax =case_to_death_by_state_df[\"Mortality Rate %\"].head(20).plot.bar(rot=90,fontsize=\"12\", stacked=False, figsize=(15,8))\n",
    "for p in ax.patches:\n",
    "    ax.annotate(str(p.get_height()), (p.get_x() * 1.005, p.get_height() *1.005))\n",
    "\n",
    "plt.title(f\"Top Mortality Rates in México for Positive COVID19 Cases\")\n",
    "plt.xlabel(\"State\")\n",
    "plt.ylabel(\"Mortality Rate %\")\n",
    "plt.savefig(\"Results_visualizations/COVID19_bar_top_states_mortality_rates.png\")\n",
    "plt.show()"
   ]
  },
  {
   "cell_type": "markdown",
   "metadata": {},
   "source": [
    "* Although the number of positive covid19 cases are significantly greater in areas of high population there is also a higher level of medical care in these areas resulting in a lower mortality rate. More rural areas of lower population such as Colima, Oaxaca, Zacatecas and Jalisco have a much higher mortality rate of aproximately 30% compared to only 8% in CDMX. However, this is greatly due to the higher number of cases in metropolitan areas due to the close proximity of the population."
   ]
  },
  {
   "cell_type": "markdown",
   "metadata": {},
   "source": [
    "## Generate heat map of positive covid19 cases reported in México"
   ]
  },
  {
   "cell_type": "code",
   "execution_count": 6,
   "metadata": {},
   "outputs": [
    {
     "name": "stdout",
     "output_type": "stream",
     "text": [
      "258.8\n"
     ]
    },
    {
     "data": {
      "text/html": [
       "<div>\n",
       "<style scoped>\n",
       "    .dataframe tbody tr th:only-of-type {\n",
       "        vertical-align: middle;\n",
       "    }\n",
       "\n",
       "    .dataframe tbody tr th {\n",
       "        vertical-align: top;\n",
       "    }\n",
       "\n",
       "    .dataframe thead th {\n",
       "        text-align: right;\n",
       "    }\n",
       "</style>\n",
       "<table border=\"1\" class=\"dataframe\">\n",
       "  <thead>\n",
       "    <tr style=\"text-align: right;\">\n",
       "      <th></th>\n",
       "      <th>Name</th>\n",
       "      <th>Lat</th>\n",
       "      <th>Lng</th>\n",
       "      <th>Cases</th>\n",
       "    </tr>\n",
       "  </thead>\n",
       "  <tbody>\n",
       "    <tr>\n",
       "      <th>13</th>\n",
       "      <td>Rincon De Romos, Ciudad De Mexico</td>\n",
       "      <td>22.228913</td>\n",
       "      <td>-102.320619</td>\n",
       "      <td>1309</td>\n",
       "    </tr>\n",
       "    <tr>\n",
       "      <th>2</th>\n",
       "      <td>Jesus Maria, Ciudad De Mexico</td>\n",
       "      <td>19.428556</td>\n",
       "      <td>-99.128511</td>\n",
       "      <td>871</td>\n",
       "    </tr>\n",
       "    <tr>\n",
       "      <th>51</th>\n",
       "      <td>Pabellon De Arteaga, Sinaloa</td>\n",
       "      <td>22.144474</td>\n",
       "      <td>-102.274822</td>\n",
       "      <td>770</td>\n",
       "    </tr>\n",
       "    <tr>\n",
       "      <th>90</th>\n",
       "      <td>Cosio, Tabasco</td>\n",
       "      <td>17.976432</td>\n",
       "      <td>-92.985261</td>\n",
       "      <td>757</td>\n",
       "    </tr>\n",
       "    <tr>\n",
       "      <th>55</th>\n",
       "      <td>Guerrero, Ciudad De Mexico</td>\n",
       "      <td>19.444523</td>\n",
       "      <td>-99.142542</td>\n",
       "      <td>604</td>\n",
       "    </tr>\n",
       "  </tbody>\n",
       "</table>\n",
       "</div>"
      ],
      "text/plain": [
       "                                 Name        Lat         Lng  Cases\n",
       "13  Rincon De Romos, Ciudad De Mexico  22.228913 -102.320619   1309\n",
       "2       Jesus Maria, Ciudad De Mexico  19.428556  -99.128511    871\n",
       "51       Pabellon De Arteaga, Sinaloa  22.144474 -102.274822    770\n",
       "90                     Cosio, Tabasco  17.976432  -92.985261    757\n",
       "55         Guerrero, Ciudad De Mexico  19.444523  -99.142542    604"
      ]
     },
     "execution_count": 6,
     "metadata": {},
     "output_type": "execute_result"
    }
   ],
   "source": [
    "# Configure gmaps with API key\n",
    "gmaps.configure(api_key=google_maps_api_key)\n",
    "\n",
    "# Store Latitude and Longitude into coords \n",
    "coords = cities_df[[\"Lat\", \"Lng\"]].astype(float)\n",
    "\n",
    "#create new cases column in data frame\n",
    "cities_df[\"Cases\"] = 0\n",
    "case_counts = []\n",
    "\n",
    "#do a lookup for each city and get number of positive cases reported\n",
    "for index, row in cities_df.iterrows():\n",
    "    num_cases = len(covid_positive_df.loc[ (covid_positive_df[\"MUNICIPIO_RES\"] + ', ' + covid_positive_df[\"ENTIDAD_RES\"]) == row[\"Name\"] ])\n",
    "    case_counts.append(num_cases)\n",
    "\n",
    "cities_df[\"Cases\"] = case_counts\n",
    "\n",
    "# set type to float for Cases column\n",
    "cities_cases_df = cities_df[\"Cases\"].astype(float)\n",
    "\n",
    "# average of highest cases to use as reference for heat map painting\n",
    "mean_cases = cities_df[\"Cases\"].head(10).mean()\n",
    "print(mean_cases) \n",
    "\n",
    "cities_df = cities_df.sort_values(\"Cases\",ascending=False)\n",
    "cities_df.head()"
   ]
  },
  {
   "cell_type": "code",
   "execution_count": 7,
   "metadata": {
    "scrolled": false
   },
   "outputs": [
    {
     "data": {
      "application/vnd.jupyter.widget-view+json": {
       "model_id": "ea637ae02cb64d198a6bda4b2ebbe960",
       "version_major": 2,
       "version_minor": 0
      },
      "text/plain": [
       "Figure(layout=FigureLayout(border='1px solid black', height='500px', padding='3px', width='950px'))"
      ]
     },
     "metadata": {},
     "output_type": "display_data"
    }
   ],
   "source": [
    "#configure gmaps heat layer\n",
    "fig = gmaps.figure(center = (25.311829, -100.148240), zoom_level = 5, layout={\n",
    "        'width': '950px',\n",
    "        'height': '500px',\n",
    "        'padding': '3px',\n",
    "        'border': '1px solid black'\n",
    "})\n",
    "heat_map = gmaps.heatmap_layer(coords, weights=cities_cases_df, \n",
    "                                 dissipating=False, max_intensity=mean_cases,\n",
    "                                 point_radius = 1)\n",
    "fig.add_layer(heat_map)\n",
    "fig"
   ]
  },
  {
   "cell_type": "markdown",
   "metadata": {},
   "source": [
    "* The positive cases are evenly distributed across the entire country with the exception of less populated desert climates of Sonora and parts of Baja California and the large natural reserve forest areas of Campeche"
   ]
  },
  {
   "cell_type": "markdown",
   "metadata": {},
   "source": [
    "## Generate heat map of mortality rates for states in México"
   ]
  },
  {
   "cell_type": "code",
   "execution_count": 8,
   "metadata": {
    "scrolled": false
   },
   "outputs": [
    {
     "name": "stdout",
     "output_type": "stream",
     "text": [
      "34.908\n"
     ]
    },
    {
     "data": {
      "application/vnd.jupyter.widget-view+json": {
       "model_id": "a530d3090786437fa906e55230816f34",
       "version_major": 2,
       "version_minor": 0
      },
      "text/plain": [
       "Figure(layout=FigureLayout(border='1px solid black', height='500px', padding='3px', width='950px'))"
      ]
     },
     "metadata": {},
     "output_type": "display_data"
    }
   ],
   "source": [
    "#for state lat longs we will use the city lat lng with the highest number of cases\n",
    "states_list = case_to_death_by_state_df.index.to_list()\n",
    "states_lats = []\n",
    "states_lngs = []\n",
    "states_mort = []\n",
    "\n",
    "for state_name in states_list:\n",
    "    for index, row in cities_df.iterrows():\n",
    "        if(state_name in row[\"Name\"]):\n",
    "            states_lats.append(row[\"Lat\"])\n",
    "            states_lngs.append(row[\"Lng\"])\n",
    "            states_mort.append(case_to_death_by_state_df.loc[state_name][\"Mortality Rate %\"])\n",
    "            break\n",
    "\n",
    "#create new dataframe for states mortality \n",
    "states_mort_df = pd.DataFrame({\n",
    "    \"State\": states_list,\n",
    "    \"Lat\": states_lats,\n",
    "    \"Lng\": states_lngs,\n",
    "    \"Mortality Rate %\": states_mort,\n",
    "})\n",
    "\n",
    "#convert to floats for gmaps\n",
    "coords = states_mort_df[[\"Lat\",\"Lng\"]].astype(float)\n",
    "state_mort_weights = case_to_death_by_state_df[\"Mortality Rate %\"].astype(float)\n",
    "\n",
    "# average of highest mortality rates to use as reference for heat map painting\n",
    "mean_morts = states_mort_df[\"Mortality Rate %\"].head(5).mean()\n",
    "print(mean_morts) \n",
    "\n",
    "#configure gmaps heat layer\n",
    "fig = gmaps.figure(center = (25.311829, -100.148240), zoom_level = 5, layout={\n",
    "        'width': '950px',\n",
    "        'height': '500px',\n",
    "        'padding': '3px',\n",
    "        'border': '1px solid black'\n",
    "})\n",
    "heat_map = gmaps.heatmap_layer(coords, weights=state_mort_weights, \n",
    "                                 dissipating=False, max_intensity=mean_morts,\n",
    "                                 point_radius = 1)\n",
    "fig.add_layer(heat_map)\n",
    "fig\n"
   ]
  },
  {
   "cell_type": "markdown",
   "metadata": {},
   "source": [
    "* the distribution of deaths are largely centered around metropolitan areas and cities with high tourism such as Aguascalientes, Santiago de Queretaro, Monclova, Chihuahua, Durango, Tijuana, Mexico City, Puebla, Huitiupán Chiapas and Cancún"
   ]
  },
  {
   "cell_type": "markdown",
   "metadata": {},
   "source": [
    "## Add layer with hospital locations data over mortality heat map"
   ]
  },
  {
   "cell_type": "code",
   "execution_count": 12,
   "metadata": {
    "scrolled": false
   },
   "outputs": [
    {
     "data": {
      "application/vnd.jupyter.widget-view+json": {
       "model_id": "a530d3090786437fa906e55230816f34",
       "version_major": 2,
       "version_minor": 0
      },
      "text/plain": [
       "Figure(layout=FigureLayout(border='1px solid black', height='500px', padding='3px', width='950px'))"
      ]
     },
     "metadata": {},
     "output_type": "display_data"
    }
   ],
   "source": [
    "hosp_locs = unique_hospitals_df[[\"lat\",\"lng\"]]\n",
    "\n",
    "# Using the template add the hospital data marks to the heatmap\n",
    "info_box_template = \"\"\"\n",
    "<dl>\n",
    "<dt>Name</dt><dd>{name_full}</dd>\n",
    "<dt>Types</dt><dd>{types}</dd>\n",
    "</dl>\n",
    "\"\"\"\n",
    "# Store the DataFrame Row\n",
    "hosp_info = [info_box_template.format(**row) for index, row in unique_hospitals_df.iterrows()]\n",
    "# Add marker layer ontop of heat map\n",
    "hospitals_popups = gmaps.symbol_layer(hosp_locs, scale = 2,info_box_content = hosp_info)\n",
    "fig.add_layer(hospitals_popups)\n",
    "\n",
    "markers = gmaps.marker_layer(hosp_locs)\n",
    "fig.add_layer(markers)\n",
    "fig"
   ]
  },
  {
   "cell_type": "markdown",
   "metadata": {},
   "source": [
    "* The distribution of hospitals largely follows the population of cities along with the number of cases and deaths. For the most part, the capacity of hospitals, although overwhelmed with cases during this crisis are able to respond to the disease in most cities. However there are areas with a high number of cases and very few medical facilites such as central Baja California Sur which only has major hospitals at the southern tip of the peninsula and to the east crossing the Gulf in Hermosillo. Cancún also has very few treatment facilities and patients there may have to be transfered via ambulance to Merida Yucatán or by helicopter or ferry to Cozumel. Given the high demand for beds, hospitals in cities with very few reported cases could be used to treat patients from sorrounding areas which are currently at full capacity. "
   ]
  }
 ],
 "metadata": {
  "kernelspec": {
   "display_name": "Python 3",
   "language": "python",
   "name": "python3"
  },
  "language_info": {
   "codemirror_mode": {
    "name": "ipython",
    "version": 3
   },
   "file_extension": ".py",
   "mimetype": "text/x-python",
   "name": "python",
   "nbconvert_exporter": "python",
   "pygments_lexer": "ipython3",
   "version": "3.7.6"
  }
 },
 "nbformat": 4,
 "nbformat_minor": 2
}
